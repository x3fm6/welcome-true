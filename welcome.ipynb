{
 "cells": [
  {
   "cell_type": "code",
   "execution_count": null,
   "metadata": {},
   "outputs": [],
   "source": [
    "import pandas as pd\n",
    "import numpy as np\n",
    "import seaborn as sns\n",
    "import matplotlib.pyplot as plt\n",
    "import sklearn as sk\n",
    "\n",
    "\n",
    "#reken eerst de median van CMC uit\n",
    "#hoeveel land \n",
    "#hoeveel creatures met flying, \n",
    "#gemiddelde mana cost per kleur, \n",
    "#hoeveel \"gods\", \n",
    "#hebben creatures, artifacts, of enchantments, instant the grootste mana costs\n",
    "#lijst \"token\" kaarten, \n",
    "#meest costeffectieve kaart, laagste CMC maar hoogste power\n",
    "#Grootste flavour/text? Welke kleur heeft de grootste flavours/text? \n",
    "#hoogste power/toughness, is er een overeenkomst tussen rarity en power? \n",
    "#Welke subtype heeft de meeste/kaarten met de hoogste power\n",
    "#welke artist heeft het meeste gemaakt \n",
    "#kan ik zien of bepaalde artiesten veel van een bepaalde subtype hebben gemaakt\n",
    "#kan ik de predicted value van humans berekenen\n",
    "\n",
    "#Maak een wordcloud van tekst\n",
    "#Beschrijf in tekst statistische voorspellingen \n",
    "\n",
    "df = pd.read_csv('theros.csv')\n",
    "df.head(30)"
   ]
  }
 ],
 "metadata": {
  "kernelspec": {
   "display_name": "Python 3 (ipykernel)",
   "language": "python",
   "name": "python3"
  },
  "language_info": {
   "codemirror_mode": {
    "name": "ipython",
    "version": 3
   },
   "file_extension": ".py",
   "mimetype": "text/x-python",
   "name": "python",
   "nbconvert_exporter": "python",
   "pygments_lexer": "ipython3",
   "version": "3.8.9"
  },
  "vscode": {
   "interpreter": {
    "hash": "31f2aee4e71d21fbe5cf8b01ff0e069b9275f58929596ceb00d14d90e3e16cd6"
   }
  }
 },
 "nbformat": 4,
 "nbformat_minor": 2
}
